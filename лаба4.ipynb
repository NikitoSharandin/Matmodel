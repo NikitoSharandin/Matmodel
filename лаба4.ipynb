{
 "cells": [
  {
   "cell_type": "markdown",
   "id": "c566703a",
   "metadata": {},
   "source": [
    "Лабораторная работа №4\n",
    "\n",
    "Выполнил студент 4 курса группы КФА Шарандин Никита"
   ]
  },
  {
   "cell_type": "code",
   "execution_count": null,
   "id": "115a9c42",
   "metadata": {},
   "outputs": [],
   "source": [
    "import matplotlib.pyplot as plt\n",
    "import numpy as np\n",
    "from scipy.optimize import curve_fit\n",
    "from sklearn.preprocessing import PolynomialFeatures\n",
    "from sklearn.pipeline import make_pipeline\n",
    "from sklearn.linear_model import Ridge\n",
    "\n",
    "x = np.arange(1, 16)\n",
    "y1 = [5, 6, 1, 15, 2, 8, 7, 11, 14, 10, 9, 4, 3, 12, 13]\n",
    "y2 = [-6, -4, -1, -2, 2, 4, 3, 6, 7, 3, 2, 0, -2, -6, -7]\n",
    "\n",
    "%matplotlib inline\n",
    "\n",
    "plt.scatter(x, y1)\n",
    "plt.scatter(x, y2)"
   ]
  }
 ],
 "metadata": {
  "kernelspec": {
   "display_name": "Python 3 (ipykernel)",
   "language": "python",
   "name": "python3"
  },
  "language_info": {
   "codemirror_mode": {
    "name": "ipython",
    "version": 3
   },
   "file_extension": ".py",
   "mimetype": "text/x-python",
   "name": "python",
   "nbconvert_exporter": "python",
   "pygments_lexer": "ipython3",
   "version": "3.11.3"
  }
 },
 "nbformat": 4,
 "nbformat_minor": 5
}
